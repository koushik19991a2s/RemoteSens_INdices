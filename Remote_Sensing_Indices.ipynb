{
 "cells": [
  {
   "cell_type": "code",
   "execution_count": 9,
   "id": "db644ab5",
   "metadata": {},
   "outputs": [],
   "source": [
    "import numpy as np\n",
    "import rasterio\n",
    "# Define the input file path\n",
    "input_file = r'E:/Python_Tutorial/Indices/Sentinel-2_Bardhaman.tif'\n",
    "# Define the output file paths\n",
    "ndvi_file = r'E:/Python_Tutorial/Indices/ndvi.tif'\n",
    "ndwi_file = r'E:/Python_Tutorial/Indices/ndwi.tif'\n",
    "ndmi_file = r'E:/Python_Tutorial/Indices/ndmi.tif'\n",
    "evi_file = r'E:/Python_Tutorial/Indices/evi.tif'\n",
    "savi_file =r'E:/Python_Tutorial/Indices/savi.tif'"
   ]
  },
  {
   "cell_type": "code",
   "execution_count": 18,
   "id": "73a26e66",
   "metadata": {},
   "outputs": [],
   "source": [
    "# Load the data into a numpy array\n",
    "with rasterio.open(input_file) as src:\n",
    "    data = src.read()\n",
    "    profile = src.profile\n",
    "    profile.update(count=1)\n",
    "    \n",
    "# Calculate NDVI\n",
    "red = data[2].astype(np.float32)\n",
    "nir = data[3].astype(np.float32)\n",
    "ndvi = (nir - red) / (nir + red)\n",
    "with rasterio.open(ndvi_file, 'w', **profile) as dst:\n",
    "    dst.write(ndvi, 1)\n",
    "    \n",
    "# Calculate NDWI\n",
    "green = data[1].astype(np.float32)\n",
    "ndwi = (green - nir) / (green + nir)\n",
    "with rasterio.open(ndwi_file, 'w', **profile) as dst:\n",
    "    dst.write(ndwi, 1)\n",
    "    \n",
    "# Calculate NDMI\n",
    "swir = data[4].astype(np.float32)\n",
    "ndmi = (nir - swir) / (nir + swir)\n",
    "with rasterio.open(ndmi_file, 'w', **profile) as dst:\n",
    "    dst.write(ndmi, 1)\n",
    "    \n",
    "# Calculate EVI\n",
    "blue = data[0].astype(np.float32)\n",
    "evi = 2.5 * ((nir - red) / (nir + 6 * red - 7.5 * blue + 1))\n",
    "with rasterio.open(evi_file, 'w', **profile) as dst:\n",
    "    dst.write(evi, 1)\n",
    "\n",
    "# Calculate SAVI\n",
    "L = 0.5  # the soil adjustment factor\n",
    "savi = ((nir - red) / (nir + red + L)) * (1 + L)\n",
    "with rasterio.open(savi_file, 'w', **profile) as dst:\n",
    "    dst.write(savi, 1)"
   ]
  },
  {
   "cell_type": "code",
   "execution_count": null,
   "id": "fb1722ed",
   "metadata": {},
   "outputs": [],
   "source": []
  }
 ],
 "metadata": {
  "kernelspec": {
   "display_name": "Python 3",
   "language": "python",
   "name": "python3"
  },
  "language_info": {
   "codemirror_mode": {
    "name": "ipython",
    "version": 3
   },
   "file_extension": ".py",
   "mimetype": "text/x-python",
   "name": "python",
   "nbconvert_exporter": "python",
   "pygments_lexer": "ipython3",
   "version": "3.8.8"
  }
 },
 "nbformat": 4,
 "nbformat_minor": 5
}
